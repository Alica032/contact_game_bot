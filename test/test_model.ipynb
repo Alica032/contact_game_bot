{
 "cells": [
  {
   "cell_type": "code",
   "execution_count": null,
   "metadata": {},
   "outputs": [],
   "source": [
    "from nltk.tokenize import sent_tokenize\n",
    "from nltk.tokenize import word_tokenize\n",
    "from nltk.corpus import stopwords\n",
    "from gensim.models.word2vec import Word2Vec\n",
    "from multiprocessing import cpu_count\n",
    "import os\n",
    "import re\n",
    "import nltk\n",
    "import torch\n",
    "import pandas as pd\n",
    "from tqdm import tqdm\n",
    "from collections import defaultdict\n",
    "nltk.download('punkt')\n",
    "nltk.download('stopwords')"
   ]
  },
  {
   "cell_type": "code",
   "execution_count": null,
   "metadata": {},
   "outputs": [],
   "source": [
    "class Def_handler():\n",
    "    def __init__(self, a_tops=10):\n",
    "        self.tops = a_tops\n",
    "        self.r = re.compile(\"[а-яА-Я-]+\")\n",
    "        self.stops = stopwords.words(\"russian\")\n",
    "\n",
    "    def set_model(self, a_model):\n",
    "        self.model = a_model\n",
    "        self.vocab = self.model.wv.vocab\n",
    "        \n",
    "    def phrase_to_keys(self, prefix, phrase):\n",
    "        # prepare definition words for search\n",
    "        words = [word.lower() for word in word_tokenize(phrase) if word.isalpha()]\n",
    "        words = [w for w in filter(self.r.match, words)]\n",
    "        words = [word for word in words if word not in self.stops]\n",
    "\n",
    "        found = defaultdict(int)\n",
    "        for word in words:\n",
    "            if word in self.vocab:\n",
    "                similar = [i[0] for i in self.model.wv.most_similar(word, topn=self.tops)]\n",
    "                for elem in similar:\n",
    "                    if prefix == elem[:len(prefix)]:\n",
    "                        found[elem] += 1\n",
    "                        \n",
    "        ranged_list = sorted(found.items(), key=lambda item: item[1], reverse=True)\n",
    "        res = [elem[0] for elem in ranged_list]\n",
    "        \n",
    "        return res"
   ]
  },
  {
   "cell_type": "code",
   "execution_count": null,
   "metadata": {},
   "outputs": [],
   "source": [
    "class Naive_metric():\n",
    "    def __init__(self):\n",
    "        self.n_success = 0\n",
    "        self.n_test = 0\n",
    "\n",
    "    def update(self, word, res):\n",
    "        self.n_test += 1\n",
    "        if word in res:\n",
    "            self.n_success += 1\n",
    "\n",
    "    def score(self):\n",
    "        return self.n_success / self.n_test"
   ]
  },
  {
   "cell_type": "code",
   "execution_count": null,
   "metadata": {},
   "outputs": [],
   "source": [
    "def test_model(model_name, test_set_name, def_handler, metric):\n",
    "    '''\n",
    "    example:\n",
    "\n",
    "    test_model('wiki0_cbow_model', 'rus_test_set.csv', Def_handler(), Naive_metric())\n",
    "    '''\n",
    "    # загрузка word2vec модели\n",
    "    model = torch.load(model_name)\n",
    "    vocab = model.wv.vocab\n",
    "    # настройка обработчика\n",
    "    def_handler.set_model(model)\n",
    "\n",
    "    # тестовый сет - слово и его фраза-определение\n",
    "    test_set = pd.read_csv(test_set_name)\n",
    "    # n_defs = test_set.shape[0]\n",
    "    n_defs = 100\n",
    "\n",
    "    not_in_dict = 0\n",
    "\n",
    "    for i in tqdm(range(n_defs)):\n",
    "        word = test_set.iloc[i]['word']\n",
    "        if word in vocab:\n",
    "            def_text = test_set.iloc[i]['defs']\n",
    "            prefix_size = 0\n",
    "\n",
    "            # пробуем угадать слово по определению и префиксу\n",
    "            # результат - ранжированный список слов\n",
    "            res = def_handler.phrase_to_keys(word[:prefix_size], def_text)\n",
    "            # обновляем метрику\n",
    "            metric.update(word, res)\n",
    "        else:\n",
    "            not_in_dict += 1\n",
    "\n",
    "    print('Test score: ', metric.score())\n",
    "    print('Not in dictionary: ', not_in_dict)"
   ]
  }
 ],
 "metadata": {
  "kernelspec": {
   "display_name": "Python 3",
   "language": "python",
   "name": "python3"
  },
  "language_info": {
   "codemirror_mode": {
    "name": "ipython",
    "version": 3
   },
   "file_extension": ".py",
   "mimetype": "text/x-python",
   "name": "python",
   "nbconvert_exporter": "python",
   "pygments_lexer": "ipython3",
   "version": "3.5.2"
  }
 },
 "nbformat": 4,
 "nbformat_minor": 2
}
